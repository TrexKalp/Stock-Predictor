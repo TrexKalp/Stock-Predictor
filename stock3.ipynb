{
 "cells": [
  {
   "cell_type": "code",
   "execution_count": 29,
   "metadata": {},
   "outputs": [],
   "source": [
    "import pandas as pd\n",
    "news_data = pd.read_csv('Combined_News_DJIA.csv')\n"
   ]
  },
  {
   "cell_type": "code",
   "execution_count": 30,
   "metadata": {},
   "outputs": [
    {
     "name": "stderr",
     "output_type": "stream",
     "text": [
      "[nltk_data] Downloading package stopwords to /Users/TrexK/nltk_data...\n",
      "[nltk_data]   Package stopwords is already up-to-date!\n",
      "[nltk_data] Downloading package punkt to /Users/TrexK/nltk_data...\n",
      "[nltk_data]   Package punkt is already up-to-date!\n"
     ]
    },
    {
     "name": "stdout",
     "output_type": "stream",
     "text": [
      "                                        cleaned_Top1  \\\n",
      "0  bgeorgia downs two russian warplanes countries...   \n",
      "1  bwhy wont america nato help us wont help us he...   \n",
      "2    bremember adorable sang opening ceremonies fake   \n",
      "3     b us refuses israel weapons attack iran report   \n",
      "4                  ball experts admit legalise drugs   \n",
      "\n",
      "                                        cleaned_Top2  \\\n",
      "0                      bbreaking musharraf impeached   \n",
      "1                  bbush puts foot georgian conflict   \n",
      "2                     brussia ends georgia operation   \n",
      "3  bwhen president ordered attack tskhinvali capi...   \n",
      "4    bwar south osetia pictures made russian soldier   \n",
      "\n",
      "                                        cleaned_Top3  \n",
      "0  brussia today columns troops roll south osseti...  \n",
      "1  bjewish georgian minister thanks israeli train...  \n",
      "2               bif sexual harassment would children  \n",
      "3    b israel clears troops killed reuters cameraman  \n",
      "4  bswedish wrestler ara abrahamian throws away m...  \n"
     ]
    }
   ],
   "source": [
    "import pandas as pd\n",
    "import numpy as np\n",
    "import re\n",
    "from nltk.corpus import stopwords\n",
    "from nltk.tokenize import word_tokenize\n",
    "\n",
    "# Download stopwords from NLTK (do this only once)\n",
    "import nltk\n",
    "nltk.download('stopwords')\n",
    "nltk.download('punkt')\n",
    "\n",
    "# Load the dataset\n",
    "data = pd.read_csv('Combined_News_DJIA.csv')\n",
    "\n",
    "# Basic text preprocessing function\n",
    "def preprocess_text(text):\n",
    "    # Convert to lowercase\n",
    "    text = text.lower()\n",
    "    \n",
    "    # Remove any URLs\n",
    "    text = re.sub(r'http\\S+|www\\S+|https\\S+', '', text, flags=re.MULTILINE)\n",
    "    \n",
    "    # Remove punctuation\n",
    "    text = re.sub(r'[^\\w\\s]', '', text)\n",
    "\n",
    "    \n",
    "    # Remove stopwords\n",
    "    stop_words = set(stopwords.words('english'))\n",
    "    tokens = word_tokenize(text)\n",
    "    filtered_tokens = [word for word in tokens if word not in stop_words and word.isalpha()]\n",
    "    \n",
    "    return \" \".join(filtered_tokens)\n",
    "\n",
    "# Apply the preprocessing function to each headline column\n",
    "for i in range(1, 26):  # Loop through all columns\n",
    "    col_name = f'Top{i}'\n",
    "    data[f'cleaned_{col_name}'] = data[col_name].astype(str).apply(preprocess_text)\n",
    "\n",
    "print(data[['cleaned_Top1', 'cleaned_Top2', 'cleaned_Top3']].head())  # Just print first 3 cleaned columns as an example\n"
   ]
  },
  {
   "cell_type": "code",
   "execution_count": 34,
   "metadata": {},
   "outputs": [
    {
     "name": "stdout",
     "output_type": "stream",
     "text": [
      "         Date  Label                                       cleaned_Top1  \\\n",
      "0  2008-08-08      0  bgeorgia downs two russian warplanes countries...   \n",
      "1  2008-08-11      1  bwhy wont america nato help us wont help us he...   \n",
      "2  2008-08-12      0    bremember adorable sang opening ceremonies fake   \n",
      "3  2008-08-13      0       us refuses israel weapons attack iran report   \n",
      "4  2008-08-14      1                  ball experts admit legalise drugs   \n",
      "\n",
      "                                        cleaned_Top2  \\\n",
      "0                      bbreaking musharraf impeached   \n",
      "1                  bbush puts foot georgian conflict   \n",
      "2                     brussia ends georgia operation   \n",
      "3  bwhen president ordered attack tskhinvali capi...   \n",
      "4    bwar south osetia pictures made russian soldier   \n",
      "\n",
      "                                        cleaned_Top3  \\\n",
      "0  brussia today columns troops roll south osseti...   \n",
      "1  bjewish georgian minister thanks israeli train...   \n",
      "2               bif sexual harassment would children   \n",
      "3      israel clears troops killed reuters cameraman   \n",
      "4  bswedish wrestler ara abrahamian throws away m...   \n",
      "\n",
      "                                        cleaned_Top4  \\\n",
      "0  brussian tanks moving towards capital south os...   \n",
      "1  bgeorgian army flees disarray russians advance...   \n",
      "2  balqaeda losing support iraq brutal crackdown ...   \n",
      "3  bbritains policy tough drugs pointless says fo...   \n",
      "4  brussia exaggerated death toll south ossetia o...   \n",
      "\n",
      "                                        cleaned_Top5  \\\n",
      "0  bafghan children raped impunity un official sa...   \n",
      "1          bolympic opening ceremony fireworks faked   \n",
      "2         bceasefire georgia putin outmaneuvers west   \n",
      "3  bbody year old found trunk latest ransom paid ...   \n",
      "4   bmissile killed inside pakistan may launched cia   \n",
      "\n",
      "                                        cleaned_Top6  \\\n",
      "0  russian tanks entered south ossetia whilst geo...   \n",
      "1  bwhat mossad fraudulent new zealand passports ...   \n",
      "2          bwhy microsoft intel tried kill xo laptop   \n",
      "3  bchina moved million quake survivors prefab homes   \n",
      "4  brushdie condemns random houses refusal publis...   \n",
      "\n",
      "                                        cleaned_Top7  \\\n",
      "0  bbreaking georgia invades south ossetia russia...   \n",
      "1      brussia angered israeli military sale georgia   \n",
      "2          bstratfor russogeorgian war balance power   \n",
      "3  bbush announces operation get russias grill ye...   \n",
      "4  bpoland us agree missle defense deal interesti...   \n",
      "\n",
      "                                        cleaned_Top8  ...  \\\n",
      "0  bthe enemy combatent trials nothing sham salim...  ...   \n",
      "1  ban american citizen living sossetia blames us...  ...   \n",
      "2  bim trying get sense whole georgiarussia war v...  ...   \n",
      "3                brussian forces sink georgian ships  ...   \n",
      "4    bwill russians conquer tblisi bet seriously bet  ...   \n",
      "\n",
      "                                       cleaned_Top16  \\\n",
      "0  bgeorgia invades south ossetia russia gets inv...   \n",
      "1              bisrael us behind georgian aggression   \n",
      "2  bus troops still georgia know georgia first place   \n",
      "3                                 belephants extinct   \n",
      "4  bbank analyst forecast georgian crisis days early   \n",
      "\n",
      "                                       cleaned_Top17  \\\n",
      "0                   balqaeda faces islamist backlash   \n",
      "1  bdo believe tv neither russian georgian much v...   \n",
      "2                bwhy russias response georgia right   \n",
      "3  bus humanitarian missions soon georgia russia ...   \n",
      "4  bgeorgia confict could set back russias us rel...   \n",
      "\n",
      "                                       cleaned_Top18  \\\n",
      "0  bcondoleezza rice us would act prevent israeli...   \n",
      "1  briots still going montreal canada police murd...   \n",
      "2  bgorbachev accuses us making serious blunder p...   \n",
      "3                     bgeorgias ddos came us sources   \n",
      "4  bwar caucasus much product american imperial d...   \n",
      "\n",
      "                                       cleaned_Top19  \\\n",
      "0  bthis busy day european union approved new san...   \n",
      "1            bchina overtake us largest manufacturer   \n",
      "2                  brussia georgia nato cold war two   \n",
      "3      brussian convoy heads georgia violating truce   \n",
      "4     bnonmedia photos south ossetiageorgia conflict   \n",
      "\n",
      "                                       cleaned_Top20  \\\n",
      "0  bgeorgia withdraw soldiers iraq help fight rus...   \n",
      "1                            bwar south ossetia pics   \n",
      "2  bremember adorable led country war based evide...   \n",
      "3           bisraeli defence minister us strike iran   \n",
      "4  bgeorgian tv reporter shot russian sniper live...   \n",
      "\n",
      "                                       cleaned_Top21  \\\n",
      "0  bwhy pentagon thinks attacking iran bad idea u...   \n",
      "1   bisraeli physicians group condemns state torture   \n",
      "2                    bwar georgia israeli connection   \n",
      "3                                  bgorbachev choice   \n",
      "4    bsaudi arabia mother moves block child marriage   \n",
      "\n",
      "                                       cleaned_Top22  \\\n",
      "0     bcaucasus crisis georgia invades south ossetia   \n",
      "1          russia beaten united states head peak oil   \n",
      "2  ball signs point us encouraging georgia invade...   \n",
      "3  bwitness russian forces head towards tbilisi b...   \n",
      "4        btaliban wages war humanitarian aid workers   \n",
      "\n",
      "                                       cleaned_Top23  \\\n",
      "0          bindian shoe manufactory series like work   \n",
      "1          bperhaps question georgia russia conflict   \n",
      "2  bchristopher king argues us nato behind georgi...   \n",
      "3            quarter russians blame us conflict poll   \n",
      "4  brussia world forget georgias territorial inte...   \n",
      "\n",
      "                                       cleaned_Top24  \\\n",
      "0  bvisitors suffering mental illnesses banned ol...   \n",
      "1                            brussia much better war   \n",
      "2                                bamerica new mexico   \n",
      "3  bgeorgian president says us military take cont...   \n",
      "4  bdarfur rebels accuse sudan mounting major attack   \n",
      "\n",
      "                                       cleaned_Top25  \n",
      "0                  bno help mexicos kidnapping surge  \n",
      "1                          bso come trading sex food  \n",
      "2       bbbc news asiapacific extinction man climate  \n",
      "3  nobel laureate aleksander solzhenitsyn accuses...  \n",
      "4  bphilippines peace advocate say muslims need a...  \n",
      "\n",
      "[5 rows x 27 columns]\n"
     ]
    }
   ],
   "source": [
    "# Assuming you have already processed and created cleaned columns as in the previous steps...\n",
    "\n",
    "# Create a list of original columns names\n",
    "original_cols = [f'Top{i}' for i in range(1, 26)]\n",
    "\n",
    "# Drop the original columns\n",
    "data = data.drop(columns=original_cols)\n",
    "\n",
    "# Now, your DataFrame 'data' will only contain cleaned columns and other columns that were not dropped.\n",
    "print(data.head())  # To verify the remaining columns\n"
   ]
  },
  {
   "cell_type": "code",
   "execution_count": 35,
   "metadata": {},
   "outputs": [
    {
     "name": "stdout",
     "output_type": "stream",
     "text": [
      "WARNING: pip is being invoked by an old script wrapper. This will fail in a future version of pip.\n",
      "Please see https://github.com/pypa/pip/issues/5599 for advice on fixing the underlying issue.\n",
      "To avoid this problem you can invoke Python with '-m pip' instead of running pip directly.\n",
      "\u001b[33mDEPRECATION: Python 2.7 reached the end of its life on January 1st, 2020. Please upgrade your Python as Python 2.7 is no longer maintained. pip 21.0 will drop support for Python 2.7 in January 2021. More details about Python 2 support in pip can be found at https://pip.pypa.io/en/latest/development/release-process/#python-2-support pip 21.0 will remove support for this functionality.\u001b[0m\n",
      "Defaulting to user installation because normal site-packages is not writeable\n",
      "Collecting nltk\n",
      "  Downloading nltk-3.5.zip (1.4 MB)\n",
      "\u001b[K     |████████████████████████████████| 1.4 MB 6.2 MB/s eta 0:00:01\n",
      "\u001b[?25hCollecting click\n",
      "  Downloading click-7.1.2-py2.py3-none-any.whl (82 kB)\n",
      "\u001b[K     |████████████████████████████████| 82 kB 5.0 MB/s  eta 0:00:01\n",
      "\u001b[?25hCollecting joblib\n",
      "  Downloading joblib-0.14.1-py2.py3-none-any.whl (294 kB)\n",
      "\u001b[K     |████████████████████████████████| 294 kB 12.2 MB/s eta 0:00:01\n",
      "\u001b[?25hCollecting regex\n",
      "  Downloading regex-2022.1.18.tar.gz (382 kB)\n",
      "\u001b[K     |████████████████████████████████| 382 kB 10.7 MB/s eta 0:00:01\n",
      "\u001b[?25hCollecting tqdm\n",
      "  Downloading tqdm-4.64.1-py2.py3-none-any.whl (78 kB)\n",
      "\u001b[K     |████████████████████████████████| 78 kB 8.2 MB/s eta 0:00:011\n",
      "\u001b[?25hCollecting importlib-resources; python_version < \"3.7\"\n",
      "  Downloading importlib_resources-3.3.1-py2.py3-none-any.whl (26 kB)\n",
      "Collecting pathlib2; python_version < \"3\"\n",
      "  Downloading pathlib2-2.3.7.post1-py2.py3-none-any.whl (18 kB)\n",
      "Collecting contextlib2; python_version < \"3\"\n",
      "  Downloading contextlib2-0.6.0.post1-py2.py3-none-any.whl (9.8 kB)\n",
      "Collecting typing; python_version < \"3.5\"\n",
      "  Downloading typing-3.10.0.0-py2-none-any.whl (26 kB)\n",
      "Collecting zipp>=0.4; python_version < \"3.8\"\n",
      "  Downloading zipp-1.2.0-py2.py3-none-any.whl (4.8 kB)\n",
      "Collecting singledispatch; python_version < \"3.4\"\n",
      "  Downloading singledispatch-3.7.0-py2.py3-none-any.whl (9.2 kB)\n",
      "Collecting scandir; python_version < \"3.5\"\n",
      "  Downloading scandir-1.10.0.tar.gz (33 kB)\n",
      "Collecting six\n",
      "  Using cached six-1.16.0-py2.py3-none-any.whl (11 kB)\n",
      "Using legacy 'setup.py install' for nltk, since package 'wheel' is not installed.\n",
      "Using legacy 'setup.py install' for regex, since package 'wheel' is not installed.\n",
      "Using legacy 'setup.py install' for scandir, since package 'wheel' is not installed.\n",
      "Installing collected packages: click, joblib, regex, scandir, six, typing, pathlib2, contextlib2, zipp, singledispatch, importlib-resources, tqdm, nltk\n",
      "    Running setup.py install for regex ... \u001b[?25lerror\n",
      "\u001b[31m    ERROR: Command errored out with exit status 1:\n",
      "     command: /Library/Frameworks/Python.framework/Versions/2.7/Resources/Python.app/Contents/MacOS/Python -u -c 'import sys, setuptools, tokenize; sys.argv[0] = '\"'\"'/private/var/folders/85/dmkkflwj3mgg3m6t8z5nxpww0000gn/T/pip-install-KjbjMo/regex/setup.py'\"'\"'; __file__='\"'\"'/private/var/folders/85/dmkkflwj3mgg3m6t8z5nxpww0000gn/T/pip-install-KjbjMo/regex/setup.py'\"'\"';f=getattr(tokenize, '\"'\"'open'\"'\"', open)(__file__);code=f.read().replace('\"'\"'\\r\\n'\"'\"', '\"'\"'\\n'\"'\"');f.close();exec(compile(code, __file__, '\"'\"'exec'\"'\"'))' install --record /private/var/folders/85/dmkkflwj3mgg3m6t8z5nxpww0000gn/T/pip-record-XJToNW/install-record.txt --single-version-externally-managed --user --prefix= --compile --install-headers /Users/TrexK/Library/Python/2.7/include/python2.7/regex\n",
      "         cwd: /private/var/folders/85/dmkkflwj3mgg3m6t8z5nxpww0000gn/T/pip-install-KjbjMo/regex/\n",
      "    Complete output (87 lines):\n",
      "    running install\n",
      "    running build\n",
      "    running build_py\n",
      "    creating build\n",
      "    creating build/lib.macosx-10.9-x86_64-2.7\n",
      "    creating build/lib.macosx-10.9-x86_64-2.7/regex\n",
      "    copying regex_3/__init__.py -> build/lib.macosx-10.9-x86_64-2.7/regex\n",
      "    copying regex_3/regex.py -> build/lib.macosx-10.9-x86_64-2.7/regex\n",
      "    copying regex_3/_regex_core.py -> build/lib.macosx-10.9-x86_64-2.7/regex\n",
      "    copying regex_3/test_regex.py -> build/lib.macosx-10.9-x86_64-2.7/regex\n",
      "    running build_ext\n",
      "    building 'regex._regex' extension\n",
      "    creating build/temp.macosx-10.9-x86_64-2.7\n",
      "    creating build/temp.macosx-10.9-x86_64-2.7/regex_3\n",
      "    gcc -fno-strict-aliasing -fno-common -dynamic -arch x86_64 -g -DNDEBUG -g -fwrapv -O3 -Wall -Wstrict-prototypes -I/Library/Frameworks/Python.framework/Versions/2.7/include/python2.7 -c regex_3/_regex.c -o build/temp.macosx-10.9-x86_64-2.7/regex_3/_regex.o\n",
      "    regex_3/_regex.c:755:23: error: expected expression\n",
      "        return *((Py_UCS1*)text + pos);\n",
      "                          ^\n",
      "    regex_3/_regex.c:755:15: error: use of undeclared identifier 'Py_UCS1'\n",
      "        return *((Py_UCS1*)text + pos);\n",
      "                  ^\n",
      "    regex_3/_regex.c:760:16: error: expected expression\n",
      "        *((Py_UCS1*)text + pos) = (Py_UCS1)ch;\n",
      "                   ^\n",
      "    regex_3/_regex.c:760:8: error: use of undeclared identifier 'Py_UCS1'\n",
      "        *((Py_UCS1*)text + pos) = (Py_UCS1)ch;\n",
      "           ^\n",
      "    regex_3/_regex.c:760:32: error: use of undeclared identifier 'Py_UCS1'\n",
      "        *((Py_UCS1*)text + pos) = (Py_UCS1)ch;\n",
      "                                   ^\n",
      "    regex_3/_regex.c:765:21: error: expected expression\n",
      "        return (Py_UCS1*)text + pos;\n",
      "                        ^\n",
      "    regex_3/_regex.c:765:13: error: use of undeclared identifier 'Py_UCS1'\n",
      "        return (Py_UCS1*)text + pos;\n",
      "                ^\n",
      "    regex_3/_regex.c:770:23: error: expected expression\n",
      "        return *((Py_UCS2*)text + pos);\n",
      "                          ^\n",
      "    regex_3/_regex.c:770:15: error: use of undeclared identifier 'Py_UCS2'\n",
      "        return *((Py_UCS2*)text + pos);\n",
      "                  ^\n",
      "    regex_3/_regex.c:775:16: error: expected expression\n",
      "        *((Py_UCS2*)text + pos) = (Py_UCS2)ch;\n",
      "                   ^\n",
      "    regex_3/_regex.c:775:8: error: use of undeclared identifier 'Py_UCS2'\n",
      "        *((Py_UCS2*)text + pos) = (Py_UCS2)ch;\n",
      "           ^\n",
      "    regex_3/_regex.c:775:32: error: use of undeclared identifier 'Py_UCS2'\n",
      "        *((Py_UCS2*)text + pos) = (Py_UCS2)ch;\n",
      "                                   ^\n",
      "    regex_3/_regex.c:780:21: error: expected expression\n",
      "        return (Py_UCS2*)text + pos;\n",
      "                        ^\n",
      "    regex_3/_regex.c:780:13: error: use of undeclared identifier 'Py_UCS2'\n",
      "        return (Py_UCS2*)text + pos;\n",
      "                ^\n",
      "    regex_3/_regex.c:2103:25: error: use of undeclared identifier 'PyExc_TimeoutError'; did you mean 'PyExc_ImportError'?\n",
      "            PyErr_SetString(PyExc_TimeoutError, \"regex timed out\");\n",
      "                            ^~~~~~~~~~~~~~~~~~\n",
      "                            PyExc_ImportError\n",
      "    /Library/Frameworks/Python.framework/Versions/2.7/include/python2.7/pyerrors.h:134:24: note: 'PyExc_ImportError' declared here\n",
      "    PyAPI_DATA(PyObject *) PyExc_ImportError;\n",
      "                           ^\n",
      "    regex_3/_regex.c:3468:9: error: unknown type name 'Py_UCS1'; did you mean 'Py_UCS4'?\n",
      "            Py_UCS1* text_ptr;\n",
      "            ^~~~~~~\n",
      "            Py_UCS4\n",
      "    /Library/Frameworks/Python.framework/Versions/2.7/include/python2.7/unicodeobject.h:128:22: note: 'Py_UCS4' declared here\n",
      "    typedef unsigned int Py_UCS4;\n",
      "                         ^\n",
      "    regex_3/_regex.c:3469:9: error: unknown type name 'Py_UCS1'; did you mean 'Py_UCS4'?\n",
      "            Py_UCS1* limit_ptr;\n",
      "            ^~~~~~~\n",
      "            Py_UCS4\n",
      "    /Library/Frameworks/Python.framework/Versions/2.7/include/python2.7/unicodeobject.h:128:22: note: 'Py_UCS4' declared here\n",
      "    typedef unsigned int Py_UCS4;\n",
      "                         ^\n",
      "    regex_3/_regex.c:3471:29: error: expected expression\n",
      "            text_ptr = (Py_UCS1*)text + text_pos;\n",
      "                                ^\n",
      "    regex_3/_regex.c:3471:21: error: use of undeclared identifier 'Py_UCS1'\n",
      "            text_ptr = (Py_UCS1*)text + text_pos;\n",
      "                        ^\n",
      "    fatal error: too many errors emitted, stopping now [-ferror-limit=]\n",
      "    20 errors generated.\n",
      "    error: command 'gcc' failed with exit status 1\n",
      "    ----------------------------------------\u001b[0m\n",
      "\u001b[?25h\u001b[31mERROR: Command errored out with exit status 1: /Library/Frameworks/Python.framework/Versions/2.7/Resources/Python.app/Contents/MacOS/Python -u -c 'import sys, setuptools, tokenize; sys.argv[0] = '\"'\"'/private/var/folders/85/dmkkflwj3mgg3m6t8z5nxpww0000gn/T/pip-install-KjbjMo/regex/setup.py'\"'\"'; __file__='\"'\"'/private/var/folders/85/dmkkflwj3mgg3m6t8z5nxpww0000gn/T/pip-install-KjbjMo/regex/setup.py'\"'\"';f=getattr(tokenize, '\"'\"'open'\"'\"', open)(__file__);code=f.read().replace('\"'\"'\\r\\n'\"'\"', '\"'\"'\\n'\"'\"');f.close();exec(compile(code, __file__, '\"'\"'exec'\"'\"'))' install --record /private/var/folders/85/dmkkflwj3mgg3m6t8z5nxpww0000gn/T/pip-record-XJToNW/install-record.txt --single-version-externally-managed --user --prefix= --compile --install-headers /Users/TrexK/Library/Python/2.7/include/python2.7/regex Check the logs for full command output.\u001b[0m\n"
     ]
    }
   ],
   "source": [
    "!pip install nltk\n",
    "\n",
    "import nltk\n",
    "from nltk.corpus import words"
   ]
  },
  {
   "cell_type": "code",
   "execution_count": 37,
   "metadata": {},
   "outputs": [
    {
     "name": "stderr",
     "output_type": "stream",
     "text": [
      "[nltk_data] Downloading package words to /Users/TrexK/nltk_data...\n",
      "[nltk_data]   Package words is already up-to-date!\n"
     ]
    },
    {
     "data": {
      "text/plain": [
       "True"
      ]
     },
     "execution_count": 37,
     "metadata": {},
     "output_type": "execute_result"
    }
   ],
   "source": [
    "nltk.download('words')\n"
   ]
  },
  {
   "cell_type": "code",
   "execution_count": 38,
   "metadata": {},
   "outputs": [],
   "source": [
    "word_list = set(words.words())\n",
    "\n",
    "def conditional_remove_b(text):\n",
    "    # If the string starts with a \"b\" and the word without \"b\" isn't in the dictionary, remove the \"b\"\n",
    "    if text.startswith('b') and text[1:].lower() not in word_list:\n",
    "        return text[1:]\n",
    "    return text\n"
   ]
  },
  {
   "cell_type": "code",
   "execution_count": 39,
   "metadata": {},
   "outputs": [],
   "source": [
    "for i in range(1, 26):\n",
    "    col_name = f'cleaned_Top{i}'\n",
    "    data[col_name] = data[col_name].apply(conditional_remove_b)\n"
   ]
  },
  {
   "cell_type": "code",
   "execution_count": 42,
   "metadata": {},
   "outputs": [],
   "source": [
    "data['combined_news'] = data.filter(like='cleaned_').apply(lambda x: ' '.join(x.dropna().astype(str)), axis=1)\n"
   ]
  },
  {
   "cell_type": "code",
   "execution_count": 43,
   "metadata": {},
   "outputs": [],
   "source": [
    "from sklearn.feature_extraction.text import TfidfVectorizer\n",
    "\n",
    "vectorizer = TfidfVectorizer(max_features=5000)\n",
    "X = vectorizer.fit_transform(data['combined_news'])\n",
    "y = data['Label']\n"
   ]
  },
  {
   "cell_type": "code",
   "execution_count": 44,
   "metadata": {},
   "outputs": [],
   "source": [
    "from sklearn.model_selection import train_test_split\n",
    "\n",
    "X_train, X_test, y_train, y_test = train_test_split(X, y, test_size=0.2, random_state=42)\n"
   ]
  },
  {
   "cell_type": "code",
   "execution_count": 45,
   "metadata": {},
   "outputs": [
    {
     "data": {
      "text/html": [
       "<style>#sk-container-id-1 {color: black;}#sk-container-id-1 pre{padding: 0;}#sk-container-id-1 div.sk-toggleable {background-color: white;}#sk-container-id-1 label.sk-toggleable__label {cursor: pointer;display: block;width: 100%;margin-bottom: 0;padding: 0.3em;box-sizing: border-box;text-align: center;}#sk-container-id-1 label.sk-toggleable__label-arrow:before {content: \"▸\";float: left;margin-right: 0.25em;color: #696969;}#sk-container-id-1 label.sk-toggleable__label-arrow:hover:before {color: black;}#sk-container-id-1 div.sk-estimator:hover label.sk-toggleable__label-arrow:before {color: black;}#sk-container-id-1 div.sk-toggleable__content {max-height: 0;max-width: 0;overflow: hidden;text-align: left;background-color: #f0f8ff;}#sk-container-id-1 div.sk-toggleable__content pre {margin: 0.2em;color: black;border-radius: 0.25em;background-color: #f0f8ff;}#sk-container-id-1 input.sk-toggleable__control:checked~div.sk-toggleable__content {max-height: 200px;max-width: 100%;overflow: auto;}#sk-container-id-1 input.sk-toggleable__control:checked~label.sk-toggleable__label-arrow:before {content: \"▾\";}#sk-container-id-1 div.sk-estimator input.sk-toggleable__control:checked~label.sk-toggleable__label {background-color: #d4ebff;}#sk-container-id-1 div.sk-label input.sk-toggleable__control:checked~label.sk-toggleable__label {background-color: #d4ebff;}#sk-container-id-1 input.sk-hidden--visually {border: 0;clip: rect(1px 1px 1px 1px);clip: rect(1px, 1px, 1px, 1px);height: 1px;margin: -1px;overflow: hidden;padding: 0;position: absolute;width: 1px;}#sk-container-id-1 div.sk-estimator {font-family: monospace;background-color: #f0f8ff;border: 1px dotted black;border-radius: 0.25em;box-sizing: border-box;margin-bottom: 0.5em;}#sk-container-id-1 div.sk-estimator:hover {background-color: #d4ebff;}#sk-container-id-1 div.sk-parallel-item::after {content: \"\";width: 100%;border-bottom: 1px solid gray;flex-grow: 1;}#sk-container-id-1 div.sk-label:hover label.sk-toggleable__label {background-color: #d4ebff;}#sk-container-id-1 div.sk-serial::before {content: \"\";position: absolute;border-left: 1px solid gray;box-sizing: border-box;top: 0;bottom: 0;left: 50%;z-index: 0;}#sk-container-id-1 div.sk-serial {display: flex;flex-direction: column;align-items: center;background-color: white;padding-right: 0.2em;padding-left: 0.2em;position: relative;}#sk-container-id-1 div.sk-item {position: relative;z-index: 1;}#sk-container-id-1 div.sk-parallel {display: flex;align-items: stretch;justify-content: center;background-color: white;position: relative;}#sk-container-id-1 div.sk-item::before, #sk-container-id-1 div.sk-parallel-item::before {content: \"\";position: absolute;border-left: 1px solid gray;box-sizing: border-box;top: 0;bottom: 0;left: 50%;z-index: -1;}#sk-container-id-1 div.sk-parallel-item {display: flex;flex-direction: column;z-index: 1;position: relative;background-color: white;}#sk-container-id-1 div.sk-parallel-item:first-child::after {align-self: flex-end;width: 50%;}#sk-container-id-1 div.sk-parallel-item:last-child::after {align-self: flex-start;width: 50%;}#sk-container-id-1 div.sk-parallel-item:only-child::after {width: 0;}#sk-container-id-1 div.sk-dashed-wrapped {border: 1px dashed gray;margin: 0 0.4em 0.5em 0.4em;box-sizing: border-box;padding-bottom: 0.4em;background-color: white;}#sk-container-id-1 div.sk-label label {font-family: monospace;font-weight: bold;display: inline-block;line-height: 1.2em;}#sk-container-id-1 div.sk-label-container {text-align: center;}#sk-container-id-1 div.sk-container {/* jupyter's `normalize.less` sets `[hidden] { display: none; }` but bootstrap.min.css set `[hidden] { display: none !important; }` so we also need the `!important` here to be able to override the default hidden behavior on the sphinx rendered scikit-learn.org. See: https://github.com/scikit-learn/scikit-learn/issues/21755 */display: inline-block !important;position: relative;}#sk-container-id-1 div.sk-text-repr-fallback {display: none;}</style><div id=\"sk-container-id-1\" class=\"sk-top-container\"><div class=\"sk-text-repr-fallback\"><pre>LogisticRegression(max_iter=1000)</pre><b>In a Jupyter environment, please rerun this cell to show the HTML representation or trust the notebook. <br />On GitHub, the HTML representation is unable to render, please try loading this page with nbviewer.org.</b></div><div class=\"sk-container\" hidden><div class=\"sk-item\"><div class=\"sk-estimator sk-toggleable\"><input class=\"sk-toggleable__control sk-hidden--visually\" id=\"sk-estimator-id-1\" type=\"checkbox\" checked><label for=\"sk-estimator-id-1\" class=\"sk-toggleable__label sk-toggleable__label-arrow\">LogisticRegression</label><div class=\"sk-toggleable__content\"><pre>LogisticRegression(max_iter=1000)</pre></div></div></div></div></div>"
      ],
      "text/plain": [
       "LogisticRegression(max_iter=1000)"
      ]
     },
     "execution_count": 45,
     "metadata": {},
     "output_type": "execute_result"
    }
   ],
   "source": [
    "from sklearn.linear_model import LogisticRegression\n",
    "\n",
    "clf = LogisticRegression(max_iter=1000)\n",
    "clf.fit(X_train, y_train)\n"
   ]
  },
  {
   "cell_type": "code",
   "execution_count": 46,
   "metadata": {},
   "outputs": [
    {
     "name": "stdout",
     "output_type": "stream",
     "text": [
      "0.4723618090452261\n"
     ]
    }
   ],
   "source": [
    "from sklearn.metrics import accuracy_score\n",
    "\n",
    "y_pred = clf.predict(X_test)\n",
    "print(accuracy_score(y_test, y_pred))\n"
   ]
  },
  {
   "cell_type": "code",
   "execution_count": 61,
   "metadata": {},
   "outputs": [
    {
     "name": "stdout",
     "output_type": "stream",
     "text": [
      "The stock is predicted to go Up.\n"
     ]
    }
   ],
   "source": [
    "def predict_headline_movement(headline):\n",
    "    # Transform the headline using TF-IDF vectorizer\n",
    "    transformed_headline = vectorizer.transform([headline])\n",
    "    \n",
    "    # Predict using the classifier\n",
    "    prediction = clf.predict(transformed_headline)\n",
    "\n",
    "    return \"Up\" if prediction[0] == 1 else \"Down\"\n",
    "\n",
    "# Example usage\n",
    "result = predict_headline_movement(input())\n",
    "print(f\"The stock is predicted to go {result}.\")\n"
   ]
  }
 ],
 "metadata": {
  "kernelspec": {
   "display_name": "Python 3",
   "language": "python",
   "name": "python3"
  },
  "language_info": {
   "codemirror_mode": {
    "name": "ipython",
    "version": 3
   },
   "file_extension": ".py",
   "mimetype": "text/x-python",
   "name": "python",
   "nbconvert_exporter": "python",
   "pygments_lexer": "ipython3",
   "version": "3.9.13"
  },
  "orig_nbformat": 4
 },
 "nbformat": 4,
 "nbformat_minor": 2
}
